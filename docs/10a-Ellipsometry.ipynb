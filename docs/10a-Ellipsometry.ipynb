{
 "cells": [
  {
   "cell_type": "markdown",
   "metadata": {},
   "source": [
    "# Ellipsometer Basics\n",
    "\n",
    "**Scott Prahl**\n",
    "\n",
    "*April 2020*\n",
    "\n",
    "This notebook reviews the basic equations used in ellipsometry.  It also demonstrates how the Fresnel reflection equations are related to the ellipsometry parameter $\\rho = \\tan\\psi \\cdot e^{j\\Delta}$.\n",
    "\n",
    "References\n",
    "\n",
    "* Archer, *Manual on Ellipsometry* 1968.\n",
    "* Azzam, *Ellipsometry and Polarized Light*, 1977.\n",
    "* Fujiwara, *Spectroscopic Ellipsometry*, 2007.\n",
    "* Tompkins, *A User's Guide to Ellipsometry*, 1993\n",
    "* Tompkins, *Handbook of Ellipsometry*, 2005.\n",
    "* Woollam, *A short course in ellipsometry*, 2001."
   ]
  },
  {
   "cell_type": "code",
   "execution_count": 1,
   "metadata": {},
   "outputs": [],
   "source": [
    "import sympy\n",
    "import numpy as np\n",
    "import matplotlib.pyplot as plt\n",
    "\n",
    "import pypolar.fresnel as fresnel\n",
    "import pypolar.ellipsometry as ellipse\n",
    "\n",
    "sympy.init_printing(use_unicode=True)"
   ]
  },
  {
   "cell_type": "markdown",
   "metadata": {},
   "source": [
    "## Ellipsometry"
   ]
  },
  {
   "cell_type": "markdown",
   "metadata": {},
   "source": [
    "### Layout\n",
    "A basic ellipsometer configuration is shown below where the lights hits the sample at an angle $\\theta$ from a normal to the surface.  The  incident electric field $E_{ip}$ is parallel to the plane-of-incidence (which contains the incoming vector and the vector normal to the surface).  The electric field $E_{is}$ is perpendicular to the plane of incidence\n",
    "\n",
    "<img src=\"http://omlc.org/~prahl/host/453/week5/ellipsometry.png\" width=\"100%\">\n",
    "\n",
    "Usually, the incident light $\\mathbf{E}_i$ is linearly polarized but does not need to be.  The reflected light $\\mathbf{E}_r$ is, in general, elliptically polarized. \n",
    "\n",
    "$$\n",
    "\\mathbf{E}_i = \n",
    "\\begin{bmatrix}\n",
    "E_{ip}e^{j\\delta_{ip}}\\\\\n",
    "E_{is}e^{j\\delta_{is}}\\\\\n",
    "\\end{bmatrix}\n",
    "\\qquad\\mbox{and}\\qquad\n",
    "\\mathbf{E}_r = \n",
    "\\begin{bmatrix}\n",
    "E_{rp}e^{j\\delta_{rp}}\\\\\n",
    "E_{rs}e^{j\\delta_{rs}}\\\\\n",
    "\\end{bmatrix}\n",
    "$$"
   ]
  },
  {
   "cell_type": "markdown",
   "metadata": {},
   "source": [
    "### $\\Delta$ and $\\tan\\psi$\n",
    "\n",
    "The effect of reflection is characterized by the angle $\\Delta$, defined as the change in phase, and the angle $\\psi$, the arctangent of the factor by which the amplitude ratio changes. \n",
    "\n",
    "$$\n",
    "\\Delta = (\\delta_{rp} - \\delta_{rs}) - (\\delta_{ip}-\\delta_{is})\n",
    "$$\n",
    "\n",
    "and\n",
    "\n",
    "$$\n",
    "\\tan\\psi = \\frac{E_{is}}{E_{ip}} \\cdot \\frac{E_{rp}}{E_{rs}}\n",
    "$$\n",
    "\n",
    "In the special (but common case) of a smooth surface, there will be no mixing of parallel and perpendicular light, i.e.,\n",
    "\n",
    "$$\n",
    "\\begin{bmatrix}\n",
    "E_{rp}e^{j\\delta_{rp}}\\\\\n",
    "E_{rs}e^{j\\delta_{rs}}\n",
    "\\end{bmatrix}\n",
    "= \n",
    "\\begin{bmatrix}\n",
    "r_p & 0 \\\\\n",
    "0 & r_s\n",
    "\\end{bmatrix}\n",
    "\\begin{bmatrix}\n",
    "E_{ip}e^{j\\delta_{ip}}\\\\\n",
    "E_{is}e^{j\\delta_{is}}\n",
    "\\end{bmatrix}\n",
    "=\n",
    "\\begin{bmatrix}\n",
    "r_p E_{ip}e^{j\\delta_{ip}}\\\\\n",
    "s_s E_{is}e^{j\\delta_{is}}\n",
    "\\end{bmatrix}\n",
    "$$\n",
    "\n",
    "the $\\tan\\psi$ equation simplifies to\n",
    "\n",
    "$$\n",
    "\\tan\\psi = \\frac{r_p}{r_s} \n",
    "$$\n",
    "\n",
    "These overall change in field is often written as a single complex number $\\rho$\n",
    "\n",
    "$$\n",
    "\\rho = \\tan\\psi e^{j\\Delta}\n",
    "$$\n",
    "\n",
    "Ellipsometry is the science of measuring and interpreting $\\Delta$ and $\\psi$ for a surface. A simple use of ellipsometry is to determine the complex index of refraction $m$ for a thick uniform flat substrate.  More elaborate ellisometric techniques allow one to determine one or more coatings on the substrate. "
   ]
  },
  {
   "cell_type": "markdown",
   "metadata": {},
   "source": [
    "### Refractive index\n",
    "\n",
    "When light reflects off a surface, the amplitude and phase of the electric changes.  These changes depend on the wavelength $\\lambda$ of the light, the angle of incidence $\\theta$, the complex refractive index of the material $m= n(1-j \\kappa)$, and the polarization state of the incident beam:\n",
    "\n",
    "* The plane of incidence contains the incident electric field propagation vector and the normal to the surface.\n",
    "\n",
    "* The angle of incidence is the angle beween these two directions\n",
    "\n",
    "* The real part of the refractive index $n$ determines the speed of light in the material\n",
    "\n",
    "* The imaginary part of the refractive index $\\kappa$ determines the light absorption of the material\n",
    "\n",
    "* Linearly polarized light parallel to the plane of incidence is **p-polarized**. \n",
    "\n",
    "* Linearly polarized light perpendicular to the plane of incident is **s-polarized**. \n",
    "\n",
    "* The phase shift and amplitude change is different for p and s- polarized light.\n",
    "\n",
    "* For dielectrics like glass, the amount of reflected light is determined by a single number, the index of refraction $n$.  \n",
    "\n",
    "* Semi-conductors and metals have a complex index of refraction  $m = n(1 - j \\kappa)$.  \n",
    "\n"
   ]
  },
  {
   "cell_type": "markdown",
   "metadata": {},
   "source": [
    "### Fresnel Reflection\n",
    "\n",
    "The Fresnel formulas for light incident from a vacuum onto a flat surface at an angle $\\theta$ from the normal with refractive index $m$ varies with the orientation of the electric field.  The plane of incidence is defined as containing both the incident direction and the normal to the surface.  If the incident field is parallel to the plane of incidence then\n",
    "$$\n",
    "r_p=r_\\parallel ={m^2\\cos\\theta-\\sqrt{m^2-\\sin^2\\theta}\\over\n",
    "                        m^2\\cos\\theta+\\sqrt{m^2-\\sin^2\\theta}}\n",
    "$$\n",
    "If the incident field is perpendicular to the plane of incidence then\n",
    "$$\n",
    "r_s=r_\\perp ={\\cos\\theta-\\sqrt{m^2-\\sin^2\\theta}\\over\n",
    "                    \\cos\\theta+\\sqrt{m^2-\\sin^2\\theta}}\n",
    "$$"
   ]
  },
  {
   "cell_type": "markdown",
   "metadata": {},
   "source": [
    "### Fundamental Equation of Ellipsometry\n",
    "\n",
    "Ellipsometers are used to determine the parameters $\\psi$ and $\\Delta$ which can be used to calculate $\\rho$\n",
    "$$\n",
    "\\rho = {r_p(\\theta)\\over r_s(\\theta)} = \\tan\\psi \\cdot e^{j \\Delta}\n",
    "$$\n",
    "\n",
    "The graph below shows how $\\psi$ and $\\Delta$ vary with the incidence angle"
   ]
  },
  {
   "cell_type": "markdown",
   "metadata": {},
   "source": [
    "### Determining the complex index of refraction\n",
    "\n",
    "A convenient formula for an isotropic, uniform sample is given in \n",
    "[Measurement of the Thickness and Refractive Index of Very Thin Films and the Optical Properties of Surfaces by Ellipsometry](https://archive.org/details/jresv67An4p363) so that when $\\rho$ and $\\theta$ are known, the complex index of refraction can be calculated.\n",
    "$$\n",
    "m = \\tan\\theta \\sqrt{1-{4\\rho\\sin^2\\theta\\over (1+\\rho)^2}}\n",
    "$$"
   ]
  },
  {
   "cell_type": "code",
   "execution_count": 2,
   "metadata": {},
   "outputs": [
    {
     "ename": "TypeError",
     "evalue": "rho_from_m() got an unexpected keyword argument 'deg'",
     "output_type": "error",
     "traceback": [
      "\u001b[0;31m---------------------------------------------------------------------------\u001b[0m",
      "\u001b[0;31mTypeError\u001b[0m                                 Traceback (most recent call last)",
      "\u001b[0;32m<ipython-input-2-3c80f73bbaf6>\u001b[0m in \u001b[0;36m<module>\u001b[0;34m\u001b[0m\n\u001b[1;32m     15\u001b[0m \u001b[0;34m\u001b[0m\u001b[0m\n\u001b[1;32m     16\u001b[0m \u001b[0mm\u001b[0m \u001b[0;34m=\u001b[0m \u001b[0;36m1.5\u001b[0m\u001b[0;34m\u001b[0m\u001b[0;34m\u001b[0m\u001b[0m\n\u001b[0;32m---> 17\u001b[0;31m \u001b[0mplot_rho\u001b[0m\u001b[0;34m(\u001b[0m\u001b[0mm\u001b[0m\u001b[0;34m)\u001b[0m\u001b[0;34m\u001b[0m\u001b[0;34m\u001b[0m\u001b[0m\n\u001b[0m\u001b[1;32m     18\u001b[0m \u001b[0mplt\u001b[0m\u001b[0;34m.\u001b[0m\u001b[0mshow\u001b[0m\u001b[0;34m(\u001b[0m\u001b[0;34m)\u001b[0m\u001b[0;34m\u001b[0m\u001b[0;34m\u001b[0m\u001b[0m\n\u001b[1;32m     19\u001b[0m \u001b[0;34m\u001b[0m\u001b[0m\n",
      "\u001b[0;32m<ipython-input-2-3c80f73bbaf6>\u001b[0m in \u001b[0;36mplot_rho\u001b[0;34m(m)\u001b[0m\n\u001b[1;32m      1\u001b[0m \u001b[0;32mdef\u001b[0m \u001b[0mplot_rho\u001b[0m\u001b[0;34m(\u001b[0m\u001b[0mm\u001b[0m\u001b[0;34m)\u001b[0m\u001b[0;34m:\u001b[0m\u001b[0;34m\u001b[0m\u001b[0;34m\u001b[0m\u001b[0m\n\u001b[1;32m      2\u001b[0m     \u001b[0mangles\u001b[0m \u001b[0;34m=\u001b[0m \u001b[0mnp\u001b[0m\u001b[0;34m.\u001b[0m\u001b[0mlinspace\u001b[0m\u001b[0;34m(\u001b[0m\u001b[0;36m0.001\u001b[0m\u001b[0;34m,\u001b[0m\u001b[0;36m90\u001b[0m\u001b[0;34m,\u001b[0m\u001b[0;36m91\u001b[0m\u001b[0;34m)\u001b[0m\u001b[0;34m\u001b[0m\u001b[0;34m\u001b[0m\u001b[0m\n\u001b[0;32m----> 3\u001b[0;31m     \u001b[0mrho\u001b[0m \u001b[0;34m=\u001b[0m \u001b[0mellipse\u001b[0m\u001b[0;34m.\u001b[0m\u001b[0mrho_from_m\u001b[0m\u001b[0;34m(\u001b[0m\u001b[0mm\u001b[0m\u001b[0;34m,\u001b[0m\u001b[0mangles\u001b[0m\u001b[0;34m,\u001b[0m \u001b[0mdeg\u001b[0m\u001b[0;34m=\u001b[0m\u001b[0;32mTrue\u001b[0m\u001b[0;34m)\u001b[0m\u001b[0;34m\u001b[0m\u001b[0;34m\u001b[0m\u001b[0m\n\u001b[0m\u001b[1;32m      4\u001b[0m \u001b[0;34m\u001b[0m\u001b[0m\n\u001b[1;32m      5\u001b[0m     \u001b[0mplt\u001b[0m\u001b[0;34m.\u001b[0m\u001b[0mplot\u001b[0m\u001b[0;34m(\u001b[0m\u001b[0mangles\u001b[0m\u001b[0;34m,\u001b[0m \u001b[0mnp\u001b[0m\u001b[0;34m.\u001b[0m\u001b[0mabs\u001b[0m\u001b[0;34m(\u001b[0m\u001b[0mrho\u001b[0m\u001b[0;34m)\u001b[0m\u001b[0;34m,\u001b[0m \u001b[0mcolor\u001b[0m\u001b[0;34m=\u001b[0m\u001b[0;34m'red'\u001b[0m\u001b[0;34m)\u001b[0m\u001b[0;34m\u001b[0m\u001b[0;34m\u001b[0m\u001b[0m\n",
      "\u001b[0;31mTypeError\u001b[0m: rho_from_m() got an unexpected keyword argument 'deg'"
     ]
    }
   ],
   "source": [
    "def plot_rho(m):\n",
    "    angles = np.linspace(0.001,90,91)\n",
    "    rho = ellipse.rho_from_m(m,angles, deg=True)\n",
    "\n",
    "    plt.plot(angles, np.abs(rho), color='red')\n",
    "    plt.plot(angles, np.angle(rho),color='blue')\n",
    "\n",
    "    plt.xlabel(r\"Incidence angle $\\theta_i$ (degrees)\")\n",
    "    plt.ylabel(r'$\\tan\\psi$ or $\\Delta$')\n",
    "    plt.title('Refractive Index %.3f%.3fj' % (m.real,m.imag))\n",
    "\n",
    "    plt.xlim(0,90)\n",
    "    plt.text(30, 3, r'$\\Delta$', color='blue')\n",
    "    plt.text(30, 0.8, 'tan($\\psi$)', color='red')\n",
    "\n",
    "m = 1.5\n",
    "plot_rho(m)\n",
    "plt.show()\n",
    "\n",
    "m      = 1.5-1.0j\n",
    "plot_rho(m)\n",
    "plt.show()\n",
    "\n",
    "m      = 3-3j\n",
    "plot_rho(m)\n",
    "plt.show()"
   ]
  },
  {
   "cell_type": "markdown",
   "metadata": {},
   "source": [
    "Replicate figures 2.28 and 2.29 from Woollam's Short Course."
   ]
  },
  {
   "cell_type": "code",
   "execution_count": 3,
   "metadata": {},
   "outputs": [
    {
     "data": {
      "image/png": "[encoded data removed]",
      "text/plain": [
       "<Figure size 576x576 with 2 Axes>"
      ]
     },
     "metadata": {
      "needs_background": "light"
     },
     "output_type": "display_data"
    }
   ],
   "source": [
    "def plot_rho2(m1,m2):\n",
    "    angles = np.linspace(65,85,181)\n",
    "    rho1 = ellipse.rho_from_m(m1,np.radians(angles))\n",
    "    rho2 = ellipse.rho_from_m(m2,np.radians(angles))\n",
    "\n",
    "    psi1 = np.degrees(np.arctan(np.abs(rho1)))\n",
    "    psi2 = np.degrees(np.arctan(np.abs(rho2)))\n",
    "\n",
    "    Delta1 = np.degrees(np.angle(rho1))\n",
    "    Delta2 = np.degrees(np.angle(rho2))\n",
    "\n",
    "\n",
    "    plt.subplots(2,1,figsize=(8,8))\n",
    "    plt.subplot(2,1,1)\n",
    "    \n",
    "    plt.plot(angles, psi1, color='red')\n",
    "    plt.plot(angles, psi2,color='blue')\n",
    "    plt.ylabel(r'$\\psi$ (degrees)')\n",
    "    plt.title('%.3f%+.3fj and %.3f%+.3fj' % (m1.real,m1.imag,m2.real,m2.imag))\n",
    "    plt.grid(True)\n",
    "    \n",
    "    plt.subplot(2,1,2)\n",
    "    plt.plot(angles, Delta1, color='red')\n",
    "    plt.plot(angles, Delta2,color='blue')\n",
    "    plt.xlabel(r\"Incidence angle $\\theta_i$ (degrees)\")\n",
    "    plt.ylabel(r'$\\Delta$ (degrees)')\n",
    "    plt.grid(True)\n",
    "\n",
    "\n",
    "\n",
    "m1 = 4.516 - 0.249j  # amorphous silicon\n",
    "m2 = 3.875 - 0.023j  # crystalline silicon\n",
    "plot_rho2(m1,m2)\n",
    "plt.show()"
   ]
  },
  {
   "cell_type": "markdown",
   "metadata": {},
   "source": [
    "## Extracting Refractive Index from $\\rho$\n",
    "\n",
    "First we will calculate $\\rho$ for a known complex index of refraction.  "
   ]
  },
  {
   "cell_type": "code",
   "execution_count": 4,
   "metadata": {},
   "outputs": [
    {
     "data": {
      "image/png": "[encoded data removed]",
      "text/plain": [
       "<Figure size 432x288 with 1 Axes>"
      ]
     },
     "metadata": {
      "needs_background": "light"
     },
     "output_type": "display_data"
    }
   ],
   "source": [
    "m = 1.5-1.3j\n",
    "theta_i = np.linspace(1,89,15)\n",
    "rho = ellipse.rho_from_m(m,np.radians(theta_i))\n",
    "\n",
    "plt.plot(theta_i, np.abs(rho), 'o', color='red')\n",
    "plt.plot(theta_i, np.angle(rho), 'o', color='blue')\n",
    "\n",
    "plt.xlabel(r\"Incidence angle $\\theta_i$ (degrees)\")\n",
    "plt.ylabel(r'$\\tan\\psi$ or $\\Delta$')\n",
    "plt.title('Refractive Index %.3f%.3fj' % (m.real,m.imag))\n",
    "\n",
    "plt.xlim(0,90)\n",
    "plt.text(30, 3, r'$\\Delta$', color='blue')\n",
    "plt.text(30, 1.0, 'tan($\\psi$)', color='red')\n",
    "\n",
    "plt.show()"
   ]
  },
  {
   "cell_type": "markdown",
   "metadata": {},
   "source": [
    "Then, we will see if we can recover $m$ using $\\rho$ and $\\theta_i$.\n",
    "We will test with incidence angles from 1° to 89°.  We avoid 0° and 90° because these angles are either impossible or do not contain sufficient information to invert."
   ]
  },
  {
   "cell_type": "code",
   "execution_count": 5,
   "metadata": {
    "scrolled": true
   },
   "outputs": [
    {
     "data": {
      "image/png": "[encoded data removed]",
      "text/plain": [
       "<Figure size 432x288 with 1 Axes>"
      ]
     },
     "metadata": {
      "needs_background": "light"
     },
     "output_type": "display_data"
    }
   ],
   "source": [
    "m = 1.5-1.3j\n",
    "theta_i = np.linspace(1,89,15)\n",
    "rho = ellipse.rho_from_m(m,np.radians(theta_i))\n",
    "\n",
    "m2 = ellipse.m_from_rho(rho, np.radians(theta_i))\n",
    "\n",
    "plt.plot(theta_i, m2.real, 'o', color = 'blue')\n",
    "plt.plot(theta_i, m2.imag, 'o', color='red')\n",
    "\n",
    "plt.text(theta_i[0], m2[0].real-0.05, r'n', color='blue', va=\"top\")\n",
    "plt.text(theta_i[0], m2[0].imag+0.1, r'$n \\kappa$', color='red')\n",
    "\n",
    "plt.axhline(m.real,color='blue')\n",
    "plt.axhline(m.imag,color='red')\n",
    "plt.xlabel(r\"Incidence angle $\\theta_i$ (degrees)\")\n",
    "plt.ylabel('Real or Imaginary part of Refractive Index')\n",
    "plt.title('Refractive Index = %.4f %.4fj'%(m.real,m.imag))\n",
    "\n",
    "plt.show()"
   ]
  },
  {
   "cell_type": "markdown",
   "metadata": {},
   "source": [
    "Quantitatively show that things work at an incidence angle of 70°"
   ]
  },
  {
   "cell_type": "code",
   "execution_count": 7,
   "metadata": {
    "scrolled": true
   },
   "outputs": [
    {
     "name": "stdout",
     "output_type": "stream",
     "text": [
      "Incidence angle  = 70.0°\n",
      "rho              = 0.006+0.541j\n",
      "Refractive index = 1.500-2.000j\n",
      "\n",
      "Extracted index  = 1.500-2.000j using rho\n"
     ]
    }
   ],
   "source": [
    "theta_i = 70\n",
    "m = 1.5 - 2.0j\n",
    "rho = ellipse.rho_from_m(m,np.radians(theta_i))\n",
    "print('Incidence angle  = %.1f°'%(theta_i))\n",
    "print('rho              = %.3f%+.3fj'%(rho.real,rho.imag))\n",
    "print('Refractive index = %.3f%+.3fj'%(m.real,m.imag))\n",
    "print()\n",
    "m2 = ellipse.m_from_rho(rho,np.radians(theta_i))         \n",
    "print('Extracted index  = %.3f%+.3fj using rho'%(m2.real,m2.imag))"
   ]
  },
  {
   "cell_type": "code",
   "execution_count": null,
   "metadata": {},
   "outputs": [],
   "source": []
  }
 ],
 "metadata": {
  "anaconda-cloud": {},
  "kernelspec": {
   "display_name": "Python 3",
   "language": "python",
   "name": "python3"
  },
  "language_info": {
   "codemirror_mode": {
    "name": "ipython",
    "version": 3
   },
   "file_extension": ".py",
   "mimetype": "text/x-python",
   "name": "python",
   "nbconvert_exporter": "python",
   "pygments_lexer": "ipython3",
   "version": "3.9.1"
  },
  "toc": {
   "nav_menu": {},
   "number_sections": true,
   "sideBar": false,
   "skip_h1_title": false,
   "toc_cell": false,
   "toc_position": {},
   "toc_section_display": "block",
   "toc_window_display": false
  }
 },
 "nbformat": 4,
 "nbformat_minor": 4
}
