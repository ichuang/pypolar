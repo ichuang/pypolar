{
 "cells": [
  {
   "cell_type": "markdown",
   "metadata": {},
   "source": [
    "# The Jones Calculus: Symbolic Algebra\n",
    "\n",
    "**Scott Prahl**\n",
    "\n",
    "**April 2020**"
   ]
  },
  {
   "cell_type": "code",
   "execution_count": 1,
   "metadata": {},
   "outputs": [],
   "source": [
    "#this must be run first\n",
    "%matplotlib inline\n",
    "\n",
    "import matplotlib\n",
    "import numpy as np\n",
    "import matplotlib.pyplot as plt\n",
    "\n",
    "import sympy\n",
    "import pypolar.sym_jones as sym_jones\n",
    "sympy.init_printing(use_latex='mathjax')\n"
   ]
  },
  {
   "cell_type": "markdown",
   "metadata": {},
   "source": [
    "## Background\n",
    "\n",
    "### Jones Vector for Linearly Polarized Light\n",
    "\n",
    "A Jones vector is a 2x1 matrix that can represent fully polarized light.  Linearly polarized light is relatively simple\n",
    "$$\n",
    "\\mbox{horizontal linearly polarized light}=\n",
    "\\left[\\begin{array}{c} \n",
    "1\\\\\n",
    "0\\\\\n",
    "\\end{array}\\right]\n",
    "$$\n",
    "and"
   ]
  },
  {
   "cell_type": "code",
   "execution_count": 2,
   "metadata": {},
   "outputs": [
    {
     "data": {
      "text/latex": [
       "$\\displaystyle \\left[\\begin{matrix}1\\\\0\\end{matrix}\\right]$"
      ],
      "text/plain": [
       "⎡1⎤\n",
       "⎢ ⎥\n",
       "⎣0⎦"
      ]
     },
     "execution_count": 2,
     "metadata": {},
     "output_type": "execute_result"
    }
   ],
   "source": [
    "sym_jones.field_horizontal()"
   ]
  },
  {
   "cell_type": "markdown",
   "metadata": {},
   "source": [
    "$$\n",
    "\\mbox{vertical linearly polarized light}=\n",
    "\\left[\\begin{array}{c} \n",
    "0\\\\\n",
    "1\\\\\n",
    "\\end{array}\\right]\n",
    "$$"
   ]
  },
  {
   "cell_type": "code",
   "execution_count": 3,
   "metadata": {},
   "outputs": [
    {
     "data": {
      "text/latex": [
       "$\\displaystyle \\left[\\begin{matrix}0\\\\1\\end{matrix}\\right]$"
      ],
      "text/plain": [
       "⎡0⎤\n",
       "⎢ ⎥\n",
       "⎣1⎦"
      ]
     },
     "execution_count": 3,
     "metadata": {},
     "output_type": "execute_result"
    }
   ],
   "source": [
    "sym_jones.field_vertical()"
   ]
  },
  {
   "cell_type": "markdown",
   "metadata": {},
   "source": [
    "$$\n",
    "\\mbox{linearly polarized at $\\theta$ from horizontal}=\n",
    "\\left[\\begin{array}{c} \n",
    "\\cos\\theta\\\\\n",
    "\\sin\\theta\\\\\n",
    "\\end{array}\\right]\n",
    "$$\n",
    "So the vector for linearly polarized light at 45 degrees can be written in python as"
   ]
  },
  {
   "cell_type": "code",
   "execution_count": 4,
   "metadata": {},
   "outputs": [
    {
     "data": {
      "text/latex": [
       "$\\displaystyle \\left[\\begin{matrix}\\cos{\\left(\\theta \\right)}\\\\\\sin{\\left(\\theta \\right)}\\end{matrix}\\right]$"
      ],
      "text/plain": [
       "⎡cos(θ)⎤\n",
       "⎢      ⎥\n",
       "⎣sin(θ)⎦"
      ]
     },
     "execution_count": 4,
     "metadata": {},
     "output_type": "execute_result"
    }
   ],
   "source": [
    "theta = sympy.Symbol('theta', real=True)\n",
    "sym_jones.field_linear(theta)"
   ]
  },
  {
   "cell_type": "markdown",
   "metadata": {},
   "source": [
    "### Jones Vectors for Circularly Polarized Light\n",
    "\n",
    "For circularly polarized light, the direction of polarization rotates through an entire circle every wavelength, and retains a constant magnitude.  \n",
    "\n",
    "Right circularly polarized light has the direction of polarization rotating clockwise when looking into the beam.  \n",
    "$$\n",
    "\\mbox{right linearly polarized light}=\n",
    "{1\\over\\sqrt{2}}\\left[\\begin{array}{c} \n",
    "j\\\\\n",
    "1\\\\\n",
    "\\end{array}\\right]\n",
    "$$"
   ]
  },
  {
   "cell_type": "code",
   "execution_count": 5,
   "metadata": {},
   "outputs": [
    {
     "data": {
      "text/latex": [
       "$\\displaystyle \\left[\\begin{matrix}\\frac{\\sqrt{2}}{2}\\\\- \\frac{\\sqrt{2} i}{2}\\end{matrix}\\right]$"
      ],
      "text/plain": [
       "⎡  √2  ⎤\n",
       "⎢  ──  ⎥\n",
       "⎢  2   ⎥\n",
       "⎢      ⎥\n",
       "⎢-√2⋅ⅈ ⎥\n",
       "⎢──────⎥\n",
       "⎣  2   ⎦"
      ]
     },
     "execution_count": 5,
     "metadata": {},
     "output_type": "execute_result"
    }
   ],
   "source": [
    "sym_jones.field_right_circular()"
   ]
  },
  {
   "cell_type": "markdown",
   "metadata": {},
   "source": [
    "$$\n",
    "\\mbox{vertical linearly polarized light}=\n",
    "{1\\over\\sqrt{2}}\\left[\\begin{array}{c} \n",
    "1\\\\\n",
    "j\\\\\n",
    "\\end{array}\\right]\n",
    "$$\n",
    "So the vector for left circularly polarized light can be written in python as"
   ]
  },
  {
   "cell_type": "code",
   "execution_count": 6,
   "metadata": {},
   "outputs": [
    {
     "data": {
      "text/latex": [
       "$\\displaystyle \\left[\\begin{matrix}\\frac{\\sqrt{2}}{2}\\\\\\frac{\\sqrt{2} i}{2}\\end{matrix}\\right]$"
      ],
      "text/plain": [
       "⎡ √2 ⎤\n",
       "⎢ ── ⎥\n",
       "⎢ 2  ⎥\n",
       "⎢    ⎥\n",
       "⎢√2⋅ⅈ⎥\n",
       "⎢────⎥\n",
       "⎣ 2  ⎦"
      ]
     },
     "execution_count": 6,
     "metadata": {},
     "output_type": "execute_result"
    }
   ],
   "source": [
    "sym_jones.field_left_circular()"
   ]
  },
  {
   "cell_type": "markdown",
   "metadata": {},
   "source": [
    "### Elliptically polarized light\n",
    "In general, the expression for elliptically polarized light is\n",
    "$$\n",
    "\\mathbf{I}=\n",
    "\\left[\\begin{array}{c} \n",
    "A\\\\\n",
    "Be^{j\\delta}\\\\\n",
    "\\end{array}\\right]\n",
    "$$"
   ]
  },
  {
   "cell_type": "markdown",
   "metadata": {},
   "source": [
    "### Irradiance\n",
    "The scalar intensity of the beam is the square of the field $E\\cdot E^*$,\n",
    "$$\n",
    "\\left[\\begin{array}{c} \n",
    "A\\\\\n",
    "Be^{j\\delta}\\\\\n",
    "\\end{array}\\right]\n",
    "\\cdot\n",
    "\\left[\\begin{array}{c} \n",
    "A^* &\n",
    "B^*e^{-j\\delta}\\\\\n",
    "\\end{array}\\right]\n",
    "$$\n",
    "or\n",
    "$$\n",
    "I= A A^* + B B^*\n",
    "$$ \n",
    "where $A^*$ is the complex conjugate of $A$."
   ]
  },
  {
   "cell_type": "markdown",
   "metadata": {},
   "source": [
    "## Jones Matrix for Linear Polarizer\n",
    "\n",
    "The Jones matrix representing a perfect horizontal polarizer is\n",
    "$$\n",
    "\\mathbf{H}=\\mbox{Horizontal Linear Polarizer}=\\left[\\begin{array}{cc}\n",
    "1 & 0\\\\\n",
    "0 & 0\\\\\n",
    "\\end{array}\\right]\n",
    "$$\n",
    "\n",
    "The matrix representing a rotation through an angle $\\theta$ is\n",
    "$$\n",
    "\\mathbf{R}(\\theta)=\\mbox{Rotation by $\\theta$}=\\left[\\begin{array}{cc}\n",
    "\\cos\\theta & \\sin \\theta\\\\\n",
    "-\\sin\\theta & \\cos\\theta\\\\\n",
    "\\end{array}\\right]\n",
    "$$\n",
    "\n",
    "The matrix representing a linear polarizer oriented at an angle of $\\theta$ to the horizontal axis can by rotating the beam so the axis coincides with the horizontal axis and then unrotating by the same amount\n",
    "$$\n",
    "\\mbox{Linear Polarizer at $\\theta$} = \\mathbf{R}(-\\theta)\\cdot\\mathbf{H}\\cdot\\mathbf{R}(\\theta)\n",
    "$$\n"
   ]
  },
  {
   "cell_type": "code",
   "execution_count": 7,
   "metadata": {},
   "outputs": [
    {
     "data": {
      "text/latex": [
       "$\\displaystyle \\left[\\begin{matrix}\\cos^{2}{\\left(\\theta \\right)} & \\sin{\\left(\\theta \\right)} \\cos{\\left(\\theta \\right)}\\\\\\sin{\\left(\\theta \\right)} \\cos{\\left(\\theta \\right)} & \\sin^{2}{\\left(\\theta \\right)}\\end{matrix}\\right]$"
      ],
      "text/plain": [
       "⎡      2                     ⎤\n",
       "⎢   cos (θ)     sin(θ)⋅cos(θ)⎥\n",
       "⎢                            ⎥\n",
       "⎢                     2      ⎥\n",
       "⎣sin(θ)⋅cos(θ)     sin (θ)   ⎦"
      ]
     },
     "execution_count": 7,
     "metadata": {},
     "output_type": "execute_result"
    }
   ],
   "source": [
    "## By rotation\n",
    "theta = sympy.Symbol('theta', real=True)\n",
    "H = sym_jones.op_linear_polarizer(0)\n",
    "R = sym_jones.op_rotation(theta)\n",
    "linear = sym_jones.op_rotation(-theta) * H * sym_jones.op_rotation(theta)\n",
    "linear"
   ]
  },
  {
   "cell_type": "code",
   "execution_count": 8,
   "metadata": {},
   "outputs": [
    {
     "data": {
      "text/latex": [
       "$\\displaystyle \\left[\\begin{matrix}\\cos^{2}{\\left(\\theta \\right)} & \\sin{\\left(\\theta \\right)} \\cos{\\left(\\theta \\right)}\\\\\\sin{\\left(\\theta \\right)} \\cos{\\left(\\theta \\right)} & \\sin^{2}{\\left(\\theta \\right)}\\end{matrix}\\right]$"
      ],
      "text/plain": [
       "⎡      2                     ⎤\n",
       "⎢   cos (θ)     sin(θ)⋅cos(θ)⎥\n",
       "⎢                            ⎥\n",
       "⎢                     2      ⎥\n",
       "⎣sin(θ)⋅cos(θ)     sin (θ)   ⎦"
      ]
     },
     "execution_count": 8,
     "metadata": {},
     "output_type": "execute_result"
    }
   ],
   "source": [
    "## Directly\n",
    "sym_jones.op_linear_polarizer(theta)"
   ]
  },
  {
   "cell_type": "markdown",
   "metadata": {},
   "source": [
    "### Retarders and Wave Plates\n",
    "\n",
    "An optical retarder has a fast and a slow axis.  Light polarized parallel to the fast axis  moves through the wave plate faster than light polarized perpendicular to the fast axis.  A phase lag (or retardance) $\\phi$ is created between the two polarization states.  The Jones matrix for a retarder with its fast axis oriented at $\\theta$ is\n",
    "$$\n",
    "\\left[\\begin{array}{cc}\n",
    "\\cos{\\phi\\over2} + j\\sin{\\phi\\over2}\\cos2\\theta & j \\sin{\\phi\\over2}\\sin 2\\theta\\\\\n",
    "j \\sin{\\phi\\over2}\\sin 2\\theta & \\cos{\\phi\\over2} - j\\sin{\\phi\\over2}\\cos2\\theta \n",
    "\\end{array}\\right]\n",
    "$$"
   ]
  },
  {
   "cell_type": "code",
   "execution_count": 9,
   "metadata": {},
   "outputs": [
    {
     "data": {
      "text/latex": [
       "$\\displaystyle \\left[\\begin{matrix}e^{\\frac{i \\phi}{2}} \\cos^{2}{\\left(\\theta \\right)} + e^{- \\frac{i \\phi}{2}} \\sin^{2}{\\left(\\theta \\right)} & 2 i \\sin{\\left(\\frac{\\phi}{2} \\right)} \\sin{\\left(\\theta \\right)} \\cos{\\left(\\theta \\right)}\\\\2 i \\sin{\\left(\\frac{\\phi}{2} \\right)} \\sin{\\left(\\theta \\right)} \\cos{\\left(\\theta \\right)} & e^{\\frac{i \\phi}{2}} \\sin^{2}{\\left(\\theta \\right)} + e^{- \\frac{i \\phi}{2}} \\cos^{2}{\\left(\\theta \\right)}\\end{matrix}\\right]$"
      ],
      "text/plain": [
       "⎡ ⅈ⋅φ            -ⅈ⋅φ                                        ⎤\n",
       "⎢ ───            ─────                                       ⎥\n",
       "⎢  2     2         2      2              ⎛φ⎞                 ⎥\n",
       "⎢ℯ   ⋅cos (θ) + ℯ     ⋅sin (θ)    2⋅ⅈ⋅sin⎜─⎟⋅sin(θ)⋅cos(θ)   ⎥\n",
       "⎢                                        ⎝2⎠                 ⎥\n",
       "⎢                                                            ⎥\n",
       "⎢                                ⅈ⋅φ            -ⅈ⋅φ         ⎥\n",
       "⎢                                ───            ─────        ⎥\n",
       "⎢         ⎛φ⎞                     2     2         2      2   ⎥\n",
       "⎢  2⋅ⅈ⋅sin⎜─⎟⋅sin(θ)⋅cos(θ)     ℯ   ⋅sin (θ) + ℯ     ⋅cos (θ)⎥\n",
       "⎣         ⎝2⎠                                                ⎦"
      ]
     },
     "execution_count": 9,
     "metadata": {},
     "output_type": "execute_result"
    }
   ],
   "source": [
    "## are these the same??\n",
    "phi = sympy.Symbol('phi', real=True)\n",
    "sym_jones.op_retarder(theta,phi)"
   ]
  },
  {
   "cell_type": "code",
   "execution_count": 10,
   "metadata": {},
   "outputs": [
    {
     "data": {
      "text/latex": [
       "$\\displaystyle \\left[\\begin{matrix}1\\\\e^{i \\phi}\\end{matrix}\\right]$"
      ],
      "text/plain": [
       "⎡ 1  ⎤\n",
       "⎢    ⎥\n",
       "⎢ ⅈ⋅φ⎥\n",
       "⎣ℯ   ⎦"
      ]
     },
     "execution_count": 10,
     "metadata": {},
     "output_type": "execute_result"
    }
   ],
   "source": [
    "theta = sympy.Symbol('theta', real=True)\n",
    "\n",
    "slm = sym_jones.op_retarder(sympy.pi/2,phi)\n",
    "i0 = sym_jones.field_linear(sympy.pi/4)\n",
    "anal = sym_jones.op_linear_polarizer(theta)\n",
    "result = slm * i0\n",
    "result/result[0]"
   ]
  },
  {
   "cell_type": "markdown",
   "metadata": {},
   "source": [
    "HaIf the thickness of the retarder is $d$ and the fast and slow indices of refraction are $n_o$ and $n_e$, then the retardance for a wavelength $\\lambda$ is\n",
    "$$\n",
    "\\phi(\\lambda) = {2\\pi\\over\\lambda} d (n_o-n_e)\n",
    "$$\n",
    "A half-wave plate has $\\phi(\\lambda)=\\pi$ and a Jones matrix\n",
    "$$\n",
    "\\mathbf{M}_\\mathrm{\\lambda/2}=j \\left[\\begin{array}{cc}\n",
    "\\cos2\\theta & \\sin 2\\theta\\\\\n",
    "\\sin2\\theta & -\\cos2\\theta\n",
    "\\end{array}\\right]\n",
    "$$"
   ]
  },
  {
   "cell_type": "code",
   "execution_count": 11,
   "metadata": {},
   "outputs": [
    {
     "data": {
      "text/latex": [
       "$\\displaystyle \\left[\\begin{matrix}i \\cos{\\left(2 \\theta \\right)} & i \\sin{\\left(2 \\theta \\right)}\\\\i \\sin{\\left(2 \\theta \\right)} & - i \\cos{\\left(2 \\theta \\right)}\\end{matrix}\\right]$"
      ],
      "text/plain": [
       "⎡ⅈ⋅cos(2⋅θ)  ⅈ⋅sin(2⋅θ) ⎤\n",
       "⎢                       ⎥\n",
       "⎣ⅈ⋅sin(2⋅θ)  -ⅈ⋅cos(2⋅θ)⎦"
      ]
     },
     "execution_count": 11,
     "metadata": {},
     "output_type": "execute_result"
    }
   ],
   "source": [
    "sympy.simplify(sym_jones.op_half_wave_plate(theta))"
   ]
  },
  {
   "cell_type": "markdown",
   "metadata": {},
   "source": [
    "A quarter-wave plate has $\\phi(\\lambda)=\\pi/2$ and\n",
    "$$\n",
    "\\mathbf{M}_\\mathrm{\\lambda/4}={1\\over\\sqrt{2}}\\left[\\begin{array}{cc}\n",
    "1 + j\\cos2\\theta & j\\sin2\\theta\\\\\n",
    "j\\sin2\\theta & 1-j\\cos 2\\theta\n",
    "\\end{array}\\right]\n",
    "$$"
   ]
  },
  {
   "cell_type": "code",
   "execution_count": 12,
   "metadata": {},
   "outputs": [
    {
     "data": {
      "text/latex": [
       "$\\displaystyle \\left[\\begin{matrix}e^{- \\frac{i \\pi}{4}} \\sin^{2}{\\left(\\theta \\right)} + e^{\\frac{i \\pi}{4}} \\cos^{2}{\\left(\\theta \\right)} & \\sqrt{2} i \\sin{\\left(\\theta \\right)} \\cos{\\left(\\theta \\right)}\\\\\\sqrt{2} i \\sin{\\left(\\theta \\right)} \\cos{\\left(\\theta \\right)} & e^{\\frac{i \\pi}{4}} \\sin^{2}{\\left(\\theta \\right)} + e^{- \\frac{i \\pi}{4}} \\cos^{2}{\\left(\\theta \\right)}\\end{matrix}\\right]$"
      ],
      "text/plain": [
       "⎡ -ⅈ⋅π             ⅈ⋅π                                       ⎤\n",
       "⎢ ─────            ───                                       ⎥\n",
       "⎢   4      2        4     2                                  ⎥\n",
       "⎢ℯ     ⋅sin (θ) + ℯ   ⋅cos (θ)       √2⋅ⅈ⋅sin(θ)⋅cos(θ)      ⎥\n",
       "⎢                                                            ⎥\n",
       "⎢                                ⅈ⋅π            -ⅈ⋅π         ⎥\n",
       "⎢                                ───            ─────        ⎥\n",
       "⎢                                 4     2         4      2   ⎥\n",
       "⎣     √2⋅ⅈ⋅sin(θ)⋅cos(θ)        ℯ   ⋅sin (θ) + ℯ     ⋅cos (θ)⎦"
      ]
     },
     "execution_count": 12,
     "metadata": {},
     "output_type": "execute_result"
    }
   ],
   "source": [
    "## same??\n",
    "sym_jones.op_quarter_wave_plate(theta)"
   ]
  },
  {
   "cell_type": "markdown",
   "metadata": {},
   "source": [
    "A retarder exhibits different retardances at a different wavelengths.  Because $n_o-n_e$ changes slowly with wavelength, the phase at $\\lambda_1$ of a wave plated designed for $\\lambda_0$ is\n",
    "$$\n",
    "\\phi(\\lambda_1) = \\phi(\\lambda_0) {\\lambda_0\\over\\lambda_1}\n",
    "$$\n",
    "This is relevant because you will be using phase plates that are created for wavelengths other than 633nm."
   ]
  },
  {
   "cell_type": "markdown",
   "metadata": {},
   "source": [
    "### Optical Isolator\n",
    "\n",
    "<img src=\"http://omlc.org/~prahl/host/450/week1/isolator.png\" width=\"70%\">\n",
    "\n",
    "\n",
    "Linearly polarized light passes through the polarizer and is converted to right hand circularly polarized light by the quarter wave plate. Upon reflection, this beam will change handedness, and upon passage back through the quarter wave plate it is linear again but orthogonal to the polarizer.\n"
   ]
  },
  {
   "cell_type": "markdown",
   "metadata": {},
   "source": [
    "## Malus's Law\n",
    "\n",
    "Show that the transmission of linearly-polarized light as it passes through a linear analyzer at an angle $\\theta$."
   ]
  },
  {
   "cell_type": "code",
   "execution_count": 13,
   "metadata": {},
   "outputs": [
    {
     "data": {
      "text/latex": [
       "$\\displaystyle \\cos^{2}{\\left(\\theta \\right)}$"
      ],
      "text/plain": [
       "   2   \n",
       "cos (θ)"
      ]
     },
     "execution_count": 13,
     "metadata": {},
     "output_type": "execute_result"
    }
   ],
   "source": [
    "incident = sym_jones.field_horizontal()\n",
    "linear = sym_jones.op_linear_polarizer(theta)\n",
    "result = linear * incident\n",
    "intensity = sym_jones.intensity(result)\n",
    "fraction = sympy.simplify(intensity)\n",
    "fraction"
   ]
  },
  {
   "cell_type": "code",
   "execution_count": 14,
   "metadata": {},
   "outputs": [
    {
     "data": {
      "image/png": "[encoded data removed]",
      "text/plain": [
       "<Figure size 432x288 with 1 Axes>"
      ]
     },
     "metadata": {
      "needs_background": "light"
     },
     "output_type": "display_data"
    }
   ],
   "source": [
    "theta = np.linspace(0, 180, 100)\n",
    "plt.plot(theta, np.cos(np.radians(theta))**2)\n",
    "\n",
    "plt.title('Malus\\'s Law')\n",
    "plt.xlabel( \"Analyzer Angle (degrees)\" )\n",
    "plt.ylabel( \"Transmission\" )\n",
    "plt.show()"
   ]
  },
  {
   "cell_type": "markdown",
   "metadata": {},
   "source": [
    "## Crossed polarizers with quarter-wave plate between\n",
    "\n",
    "Show that the total transmission of horizontally-polarized light that passes through a quarter-wave plate oriented at an angle $\\theta$ and then through a vertical analyzer is $2\\cos^2\\theta\\sin^2\\theta$ and plot the transmitted light as the polarizer is rotated through 180 degrees. \n"
   ]
  },
  {
   "cell_type": "code",
   "execution_count": 15,
   "metadata": {},
   "outputs": [
    {
     "data": {
      "text/latex": [
       "$\\displaystyle 2 \\sin^{2}{\\left(\\theta \\right)} \\cos^{2}{\\left(\\theta \\right)}$"
      ],
      "text/plain": [
       "     2       2   \n",
       "2⋅sin (θ)⋅cos (θ)"
      ]
     },
     "execution_count": 15,
     "metadata": {},
     "output_type": "execute_result"
    }
   ],
   "source": [
    "theta = sympy.Symbol('theta', real=True)\n",
    "incident = sym_jones.field_horizontal()\n",
    "\n",
    "plate = sym_jones.op_quarter_wave_plate(theta)\n",
    "analyzer = sym_jones.op_linear_polarizer(sympy.pi/2)\n",
    "result = analyzer * plate * incident\n",
    "fraction = sym_jones.intensity(result)\n",
    "fraction\n"
   ]
  },
  {
   "cell_type": "code",
   "execution_count": 16,
   "metadata": {},
   "outputs": [
    {
     "data": {
      "image/png": "[encoded data removed]",
      "text/plain": [
       "<Figure size 432x288 with 1 Axes>"
      ]
     },
     "metadata": {
      "needs_background": "light"
     },
     "output_type": "display_data"
    }
   ],
   "source": [
    "theta = np.linspace(0, 180, 180)\n",
    "th = 2*np.radians(theta)\n",
    "plt.plot(theta, 0.5*np.sin(th)**2)\n",
    "\n",
    "plt.title('Horizontal -> Quarter Wave Plate -> Vertical Analyzer')\n",
    "plt.xlabel( \"Quarter Waveplate angle (degrees)\" )\n",
    "plt.ylabel( \"Transmission\" )\n",
    "plt.show()"
   ]
  },
  {
   "cell_type": "markdown",
   "metadata": {},
   "source": [
    "## Crossed polarizers with half-wave plate between\n",
    "\n",
    "Show that the total transmission of horizontally-polarized light that passes through a half-wave plate and then through a vertical linear analyzer is $4\\sin^2\\theta\\cos^2\\theta = \\sin^2 2\\theta$ and plot as the analyzer is rotated through 180 degrees. \n"
   ]
  },
  {
   "cell_type": "code",
   "execution_count": 17,
   "metadata": {},
   "outputs": [
    {
     "data": {
      "text/latex": [
       "$\\displaystyle 4 \\sin^{2}{\\left(\\theta \\right)} \\cos^{2}{\\left(\\theta \\right)}$"
      ],
      "text/plain": [
       "     2       2   \n",
       "4⋅sin (θ)⋅cos (θ)"
      ]
     },
     "execution_count": 17,
     "metadata": {},
     "output_type": "execute_result"
    }
   ],
   "source": [
    "theta = sympy.Symbol('theta', real=True)\n",
    "\n",
    "incident = sym_jones.field_horizontal()\n",
    "plate = sym_jones.op_half_wave_plate(theta)\n",
    "analyzer = sym_jones.op_linear_polarizer(sympy.pi/2)\n",
    "\n",
    "result = analyzer * plate * incident\n",
    "\n",
    "fraction = sym_jones.intensity(result)\n",
    "fraction"
   ]
  },
  {
   "cell_type": "code",
   "execution_count": 18,
   "metadata": {},
   "outputs": [
    {
     "data": {
      "image/png": "[encoded data removed]",
      "text/plain": [
       "<Figure size 432x288 with 1 Axes>"
      ]
     },
     "metadata": {
      "needs_background": "light"
     },
     "output_type": "display_data"
    }
   ],
   "source": [
    "theta = np.linspace(0, 180, 500)\n",
    "\n",
    "plt.plot(theta, np.sin(np.radians(2*theta))**2 )\n",
    "\n",
    "plt.title('Horizontal -> Half Wave Plate -> Vertical Analyzer')\n",
    "plt.xlabel( \"Half waveplate Angle (degrees)\" )\n",
    "plt.ylabel( \"Transmission\" )\n",
    "plt.show()"
   ]
  },
  {
   "cell_type": "markdown",
   "metadata": {},
   "source": [
    "## Waveplates not at design wavelength\n",
    "\n",
    "The phase shift in a halfwave plate depends on the wavelength. If the halfwave plates are designed for 532nm light, but we use them for 633nm light then how will the measurements be affected?  (Assume the speeds along the fast and slow axis are independent of wavelength).\n",
    "\n",
    "Plot the transmitted light for both 633 and 532nm light."
   ]
  },
  {
   "cell_type": "code",
   "execution_count": 19,
   "metadata": {},
   "outputs": [
    {
     "data": {
      "text/latex": [
       "$\\displaystyle 4 \\sin^{2}{\\left(\\theta \\right)} \\sin^{2}{\\left(\\frac{\\pi \\lambda_{0}}{2 \\lambda_{1}} \\right)} \\cos^{2}{\\left(\\theta \\right)}$"
      ],
      "text/plain": [
       "     2       2⎛π⋅λ₀⎞    2   \n",
       "4⋅sin (θ)⋅sin ⎜────⎟⋅cos (θ)\n",
       "              ⎝2⋅λ₁⎠        "
      ]
     },
     "execution_count": 19,
     "metadata": {},
     "output_type": "execute_result"
    }
   ],
   "source": [
    "f = sympy.Symbol('f', real=True)\n",
    "theta = sympy.Symbol('theta', real=True)\n",
    "lambda_0 = sympy.Symbol('lambda_0', real=True)\n",
    "lambda_1 = sympy.Symbol('lambda_1', real=True)\n",
    "f = lambda_0/lambda_1\n",
    "\n",
    "incident = sym_jones.field_horizontal()\n",
    "plate_1 = sym_jones.op_retarder(theta,f*sympy.pi)\n",
    "analyzer = sym_jones.op_linear_polarizer(sympy.pi/2)\n",
    "\n",
    "result_1 = analyzer * plate_1 * incident\n",
    "\n",
    "fraction_1 = sym_jones.intensity(result_1)\n",
    "\n",
    "fraction_1"
   ]
  },
  {
   "cell_type": "code",
   "execution_count": 20,
   "metadata": {},
   "outputs": [
    {
     "data": {
      "image/png": "[encoded data removed]",
      "text/plain": [
       "<Figure size 432x288 with 1 Axes>"
      ]
     },
     "metadata": {
      "needs_background": "light"
     },
     "output_type": "display_data"
    }
   ],
   "source": [
    "lambda_0 = 532e-9\n",
    "lambda_1 = 633e-9\n",
    "theta = np.linspace(0, 180, 500)\n",
    "plt.plot(theta, np.sin(np.radians(2*theta))**2 ,label='532nm')\n",
    "plt.plot(theta, np.sin(lambda_0*np.pi/2/lambda_1)**2*np.sin(np.radians(2*theta))**2, label='633nm' )\n",
    "\n",
    "plt.title('Horizontal -> Half Wave Plate -> Vertical Analyzer')\n",
    "plt.xlabel( \"Half waveplate Angle (degrees)\" )\n",
    "plt.ylabel( \"Transmission\" )\n",
    "plt.legend()\n",
    "plt.show()"
   ]
  }
 ],
 "metadata": {
  "anaconda-cloud": {},
  "celltoolbar": "Create Assignment",
  "kernelspec": {
   "display_name": "Python 3",
   "language": "python",
   "name": "python3"
  },
  "language_info": {
   "codemirror_mode": {
    "name": "ipython",
    "version": 3
   },
   "file_extension": ".py",
   "mimetype": "text/x-python",
   "name": "python",
   "nbconvert_exporter": "python",
   "pygments_lexer": "ipython3",
   "version": "3.9.1"
  },
  "toc": {
   "nav_menu": {},
   "number_sections": true,
   "sideBar": false,
   "skip_h1_title": false,
   "toc_cell": true,
   "toc_position": {},
   "toc_section_display": "block",
   "toc_window_display": false
  }
 },
 "nbformat": 4,
 "nbformat_minor": 4
}
